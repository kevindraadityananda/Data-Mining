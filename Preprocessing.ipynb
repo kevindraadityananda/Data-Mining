{
  "nbformat": 4,
  "nbformat_minor": 0,
  "metadata": {
    "colab": {
      "name": "Preprocessing",
      "provenance": []
    },
    "kernelspec": {
      "name": "python3",
      "display_name": "Python 3"
    },
    "language_info": {
      "name": "python"
    }
  },
  "cells": [
    {
      "cell_type": "code",
      "metadata": {
        "id": "uIOcMlnBQdsz"
      },
      "source": [
        "import numpy as np\n",
        "import matplotlib.pyplot as plt\n",
        "import pandas as pd"
      ],
      "execution_count": 1,
      "outputs": []
    },
    {
      "cell_type": "markdown",
      "metadata": {
        "id": "S9fW-KTiR5yu"
      },
      "source": [
        "Import library"
      ]
    },
    {
      "cell_type": "code",
      "metadata": {
        "id": "AA9ituXAT9Zv"
      },
      "source": [
        "dataset = pd.read_csv('Data.csv')\n",
        "x = dataset.iloc[:, :-1].values\n",
        "y = dataset.iloc[:, -1].values"
      ],
      "execution_count": 7,
      "outputs": []
    },
    {
      "cell_type": "markdown",
      "metadata": {
        "id": "y7I_40jXUDPk"
      },
      "source": [
        "Import dataset \"Data.csv\""
      ]
    },
    {
      "cell_type": "code",
      "metadata": {
        "colab": {
          "base_uri": "https://localhost:8080/"
        },
        "id": "aKW80ljRUSfR",
        "outputId": "317d3b18-dec6-4268-9afc-a8d990b5c1fd"
      },
      "source": [
        "print(x)"
      ],
      "execution_count": 8,
      "outputs": [
        {
          "output_type": "stream",
          "text": [
            "[['Briavel' 17 150000]\n",
            " ['Allysa' 17 200000]\n",
            " ['Davide' 18 540000]\n",
            " ['Allysa' 17 81000]\n",
            " ['Davide' 18 150000]\n",
            " ['Briavel' 17 230000]\n",
            " ['Allysa' 17 130000]\n",
            " ['Briavel' 17 190000]\n",
            " ['Davide' 18 99000]\n",
            " ['Briavel' 17 570000]]\n"
          ],
          "name": "stdout"
        }
      ]
    },
    {
      "cell_type": "code",
      "metadata": {
        "colab": {
          "base_uri": "https://localhost:8080/"
        },
        "id": "NE05izwlUpFo",
        "outputId": "ef9f48ba-8857-4272-a1a5-761d2edb6de5"
      },
      "source": [
        "print(y)"
      ],
      "execution_count": 9,
      "outputs": [
        {
          "output_type": "stream",
          "text": [
            "['No' 'Yes' 'Yes' 'No' 'No' 'Yes' 'No' 'Yes' 'No' 'Yes']\n"
          ],
          "name": "stdout"
        }
      ]
    },
    {
      "cell_type": "code",
      "metadata": {
        "id": "xPqoQ2UrU9E6"
      },
      "source": [
        "from sklearn.impute import SimpleImputer\n",
        "impute = SimpleImputer(missing_values=np.nan, strategy='mean')\n",
        "impute.fit(x[:, 1:3])\n",
        "x[:, 1:3] = impute.transform(x[:, 1:3])"
      ],
      "execution_count": 10,
      "outputs": []
    },
    {
      "cell_type": "code",
      "metadata": {
        "colab": {
          "base_uri": "https://localhost:8080/"
        },
        "id": "eUel14vzVDFo",
        "outputId": "ceedbf50-7878-4796-89a1-712abc224260"
      },
      "source": [
        "print(x)"
      ],
      "execution_count": 11,
      "outputs": [
        {
          "output_type": "stream",
          "text": [
            "[['Briavel' 17.0 150000.0]\n",
            " ['Allysa' 17.0 200000.0]\n",
            " ['Davide' 18.0 540000.0]\n",
            " ['Allysa' 17.0 81000.0]\n",
            " ['Davide' 18.0 150000.0]\n",
            " ['Briavel' 17.0 230000.0]\n",
            " ['Allysa' 17.0 130000.0]\n",
            " ['Briavel' 17.0 190000.0]\n",
            " ['Davide' 18.0 99000.0]\n",
            " ['Briavel' 17.0 570000.0]]\n"
          ],
          "name": "stdout"
        }
      ]
    },
    {
      "cell_type": "markdown",
      "metadata": {
        "id": "169L0cukVJGz"
      },
      "source": [
        "Encoding data atribut"
      ]
    },
    {
      "cell_type": "code",
      "metadata": {
        "id": "905jkOSHVLwT"
      },
      "source": [
        "from sklearn.compose import ColumnTransformer\n",
        "from sklearn.preprocessing import OneHotEncoder\n",
        "ct = ColumnTransformer(transformers=[('encoder', OneHotEncoder(), [0])], remainder='passthrough')\n",
        "x = np.array(ct.fit_transform(x))"
      ],
      "execution_count": 12,
      "outputs": []
    },
    {
      "cell_type": "code",
      "metadata": {
        "colab": {
          "base_uri": "https://localhost:8080/"
        },
        "id": "TxIBKWu9VSmH",
        "outputId": "9c5419e2-41d7-48a5-d8bd-dfa531771b78"
      },
      "source": [
        "print(x)"
      ],
      "execution_count": 13,
      "outputs": [
        {
          "output_type": "stream",
          "text": [
            "[[0.0 1.0 0.0 17.0 150000.0]\n",
            " [1.0 0.0 0.0 17.0 200000.0]\n",
            " [0.0 0.0 1.0 18.0 540000.0]\n",
            " [1.0 0.0 0.0 17.0 81000.0]\n",
            " [0.0 0.0 1.0 18.0 150000.0]\n",
            " [0.0 1.0 0.0 17.0 230000.0]\n",
            " [1.0 0.0 0.0 17.0 130000.0]\n",
            " [0.0 1.0 0.0 17.0 190000.0]\n",
            " [0.0 0.0 1.0 18.0 99000.0]\n",
            " [0.0 1.0 0.0 17.0 570000.0]]\n"
          ],
          "name": "stdout"
        }
      ]
    },
    {
      "cell_type": "markdown",
      "metadata": {
        "id": "GAVFMLfMVW8J"
      },
      "source": [
        "Encoding data label"
      ]
    },
    {
      "cell_type": "code",
      "metadata": {
        "id": "c-aw1N8kVa0a"
      },
      "source": [
        "from sklearn.preprocessing import LabelEncoder\n",
        "le = LabelEncoder()\n",
        "y = le.fit_transform(y)"
      ],
      "execution_count": 14,
      "outputs": []
    },
    {
      "cell_type": "code",
      "metadata": {
        "colab": {
          "base_uri": "https://localhost:8080/"
        },
        "id": "sWdfUmalVea2",
        "outputId": "4802f773-2116-49d9-8c06-5a28dd32e44e"
      },
      "source": [
        "print(y)"
      ],
      "execution_count": 15,
      "outputs": [
        {
          "output_type": "stream",
          "text": [
            "[0 1 1 0 0 1 0 1 0 1]\n"
          ],
          "name": "stdout"
        }
      ]
    },
    {
      "cell_type": "markdown",
      "metadata": {
        "id": "P_IG6Wx5Vpxz"
      },
      "source": [
        "Membagi data ke Training Set dan Tes Set"
      ]
    },
    {
      "cell_type": "code",
      "metadata": {
        "id": "0LQCx3EcVvYd"
      },
      "source": [
        "from sklearn.model_selection import train_test_split\n",
        "x_train, x_test, y_train, y_test = train_test_split(x, y, test_size=0.2, random_state=1)"
      ],
      "execution_count": 16,
      "outputs": []
    },
    {
      "cell_type": "code",
      "metadata": {
        "colab": {
          "base_uri": "https://localhost:8080/"
        },
        "id": "byCUzE7PV1Fl",
        "outputId": "2eccfe70-fdc9-4be7-c928-e6c16e1f42f9"
      },
      "source": [
        "print(x_train)"
      ],
      "execution_count": 17,
      "outputs": [
        {
          "output_type": "stream",
          "text": [
            "[[1.0 0.0 0.0 17.0 130000.0]\n",
            " [0.0 0.0 1.0 18.0 150000.0]\n",
            " [0.0 1.0 0.0 17.0 150000.0]\n",
            " [1.0 0.0 0.0 17.0 81000.0]\n",
            " [1.0 0.0 0.0 17.0 200000.0]\n",
            " [0.0 1.0 0.0 17.0 190000.0]\n",
            " [0.0 0.0 1.0 18.0 99000.0]\n",
            " [0.0 1.0 0.0 17.0 230000.0]]\n"
          ],
          "name": "stdout"
        }
      ]
    },
    {
      "cell_type": "code",
      "metadata": {
        "colab": {
          "base_uri": "https://localhost:8080/"
        },
        "id": "7GW_lY8UWFGq",
        "outputId": "267c1ed7-f84c-4a07-b220-2d875149828c"
      },
      "source": [
        "print(x_test)"
      ],
      "execution_count": 19,
      "outputs": [
        {
          "output_type": "stream",
          "text": [
            "[[0.0 0.0 1.0 18.0 540000.0]\n",
            " [0.0 1.0 0.0 17.0 570000.0]]\n"
          ],
          "name": "stdout"
        }
      ]
    },
    {
      "cell_type": "code",
      "metadata": {
        "colab": {
          "base_uri": "https://localhost:8080/"
        },
        "id": "e0dJgQeeWKZx",
        "outputId": "aa3b7a3c-3c2e-426f-b5d6-685835d4e7b8"
      },
      "source": [
        "print(y_train)"
      ],
      "execution_count": 20,
      "outputs": [
        {
          "output_type": "stream",
          "text": [
            "[0 0 0 0 1 1 0 1]\n"
          ],
          "name": "stdout"
        }
      ]
    },
    {
      "cell_type": "code",
      "metadata": {
        "colab": {
          "base_uri": "https://localhost:8080/"
        },
        "id": "6ifUhHseWN7k",
        "outputId": "5320a7ce-7f74-4da4-e6d9-852535a6de11"
      },
      "source": [
        "print(y_test)"
      ],
      "execution_count": 21,
      "outputs": [
        {
          "output_type": "stream",
          "text": [
            "[1 1]\n"
          ],
          "name": "stdout"
        }
      ]
    },
    {
      "cell_type": "markdown",
      "metadata": {
        "id": "TYiSRnImWRWq"
      },
      "source": [
        "Scalling data yang besar"
      ]
    },
    {
      "cell_type": "code",
      "metadata": {
        "id": "uTCFXptjWVJS"
      },
      "source": [
        "from sklearn.preprocessing import StandardScaler\n",
        "sc = StandardScaler()\n",
        "x_train[:, 3:] = sc.fit_transform(x_train[:, 3:])\n",
        "x_test[:, 3:] = sc.transform(x_test[:, 3:])"
      ],
      "execution_count": 22,
      "outputs": []
    },
    {
      "cell_type": "code",
      "metadata": {
        "colab": {
          "base_uri": "https://localhost:8080/"
        },
        "id": "mk3oVsCXWaQH",
        "outputId": "c56847dd-8a83-4fee-cfa4-f2000baf6047"
      },
      "source": [
        "print(x_train)"
      ],
      "execution_count": 23,
      "outputs": [
        {
          "output_type": "stream",
          "text": [
            "[[1.0 0.0 0.0 -0.5773502691896258 -0.49862755522284957]\n",
            " [0.0 0.0 1.0 1.7320508075688774 -0.07873066661413414]\n",
            " [0.0 1.0 0.0 -0.5773502691896258 -0.07873066661413414]\n",
            " [1.0 0.0 0.0 -0.5773502691896258 -1.5273749323142023]\n",
            " [1.0 0.0 0.0 -0.5773502691896258 0.9710115549076545]\n",
            " [0.0 1.0 0.0 -0.5773502691896258 0.7610631106032967]\n",
            " [0.0 0.0 1.0 1.7320508075688774 -1.1494677325663585]\n",
            " [0.0 1.0 0.0 -0.5773502691896258 1.6008568878207277]]\n"
          ],
          "name": "stdout"
        }
      ]
    },
    {
      "cell_type": "code",
      "metadata": {
        "colab": {
          "base_uri": "https://localhost:8080/"
        },
        "id": "ydRjbBKCWeHn",
        "outputId": "9c7df6a2-ce4d-4da8-ff9c-7776d02e9fef"
      },
      "source": [
        "print(x_test)"
      ],
      "execution_count": 25,
      "outputs": [
        {
          "output_type": "stream",
          "text": [
            "[[0.0 0.0 1.0 1.7320508075688774 8.109258661255817]\n",
            " [0.0 1.0 0.0 -0.5773502691896258 8.73910399416889]]\n"
          ],
          "name": "stdout"
        }
      ]
    }
  ]
}