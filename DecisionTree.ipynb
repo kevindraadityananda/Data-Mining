{
  "nbformat": 4,
  "nbformat_minor": 0,
  "metadata": {
    "colab": {
      "name": "DecisionTree.ipynb",
      "provenance": [],
      "collapsed_sections": []
    },
    "kernelspec": {
      "name": "python3",
      "display_name": "Python 3"
    },
    "language_info": {
      "name": "python"
    }
  },
  "cells": [
    {
      "cell_type": "code",
      "metadata": {
        "id": "fi5XVhWdQuc7"
      },
      "source": [
        "import numpy as np\n",
        "import pandas as pd\n",
        "from sklearn import tree"
      ],
      "execution_count": 1,
      "outputs": []
    },
    {
      "cell_type": "code",
      "metadata": {
        "id": "RIdPxdmMRAyY"
      },
      "source": [
        "irisDataset = pd.read_csv('Dataset Iris.csv', delimiter=';', header=0)"
      ],
      "execution_count": 2,
      "outputs": []
    },
    {
      "cell_type": "code",
      "metadata": {
        "colab": {
          "base_uri": "https://localhost:8080/",
          "height": 206
        },
        "id": "mpATUnAxRJm9",
        "outputId": "adef585b-47ef-4db7-a409-673603c3c13b"
      },
      "source": [
        "irisDataset.head()"
      ],
      "execution_count": 3,
      "outputs": [
        {
          "output_type": "execute_result",
          "data": {
            "text/html": [
              "<div>\n",
              "<style scoped>\n",
              "    .dataframe tbody tr th:only-of-type {\n",
              "        vertical-align: middle;\n",
              "    }\n",
              "\n",
              "    .dataframe tbody tr th {\n",
              "        vertical-align: top;\n",
              "    }\n",
              "\n",
              "    .dataframe thead th {\n",
              "        text-align: right;\n",
              "    }\n",
              "</style>\n",
              "<table border=\"1\" class=\"dataframe\">\n",
              "  <thead>\n",
              "    <tr style=\"text-align: right;\">\n",
              "      <th></th>\n",
              "      <th>Id</th>\n",
              "      <th>SepalLengthCm</th>\n",
              "      <th>SepalWidthCm</th>\n",
              "      <th>PetalLengthCm</th>\n",
              "      <th>PetalWidthCm</th>\n",
              "      <th>Species</th>\n",
              "    </tr>\n",
              "  </thead>\n",
              "  <tbody>\n",
              "    <tr>\n",
              "      <th>0</th>\n",
              "      <td>1</td>\n",
              "      <td>7.00</td>\n",
              "      <td>3.02</td>\n",
              "      <td>4.07</td>\n",
              "      <td>1.04</td>\n",
              "      <td>Iris-versicolor</td>\n",
              "    </tr>\n",
              "    <tr>\n",
              "      <th>1</th>\n",
              "      <td>2</td>\n",
              "      <td>6.00</td>\n",
              "      <td>3.02</td>\n",
              "      <td>4.05</td>\n",
              "      <td>1.05</td>\n",
              "      <td>Iris-versicolor</td>\n",
              "    </tr>\n",
              "    <tr>\n",
              "      <th>2</th>\n",
              "      <td>3</td>\n",
              "      <td>6.00</td>\n",
              "      <td>3.01</td>\n",
              "      <td>4.09</td>\n",
              "      <td>1.05</td>\n",
              "      <td>Iris-versicolor</td>\n",
              "    </tr>\n",
              "    <tr>\n",
              "      <th>3</th>\n",
              "      <td>4</td>\n",
              "      <td>5.00</td>\n",
              "      <td>2.03</td>\n",
              "      <td>4.00</td>\n",
              "      <td>1.00</td>\n",
              "      <td>Iris-versicolor</td>\n",
              "    </tr>\n",
              "    <tr>\n",
              "      <th>4</th>\n",
              "      <td>5</td>\n",
              "      <td>6.05</td>\n",
              "      <td>2.08</td>\n",
              "      <td>4.06</td>\n",
              "      <td>1.00</td>\n",
              "      <td>Iris-versicolor</td>\n",
              "    </tr>\n",
              "  </tbody>\n",
              "</table>\n",
              "</div>"
            ],
            "text/plain": [
              "   Id  SepalLengthCm  ...  PetalWidthCm          Species\n",
              "0   1           7.00  ...          1.04  Iris-versicolor\n",
              "1   2           6.00  ...          1.05  Iris-versicolor\n",
              "2   3           6.00  ...          1.05  Iris-versicolor\n",
              "3   4           5.00  ...          1.00  Iris-versicolor\n",
              "4   5           6.05  ...          1.00  Iris-versicolor\n",
              "\n",
              "[5 rows x 6 columns]"
            ]
          },
          "metadata": {
            "tags": []
          },
          "execution_count": 3
        }
      ]
    },
    {
      "cell_type": "code",
      "metadata": {
        "id": "M-qanXxZRNEH"
      },
      "source": [
        "irisDataset[\"spesies\"] = pd.factorize(irisDataset.Species)[0]"
      ],
      "execution_count": 4,
      "outputs": []
    },
    {
      "cell_type": "code",
      "metadata": {
        "colab": {
          "base_uri": "https://localhost:8080/",
          "height": 206
        },
        "id": "2gVpxDrtRS4C",
        "outputId": "cafcb1a7-e0f1-4aa6-dfc9-f732b284080c"
      },
      "source": [
        "irisDataset.head()"
      ],
      "execution_count": 6,
      "outputs": [
        {
          "output_type": "execute_result",
          "data": {
            "text/html": [
              "<div>\n",
              "<style scoped>\n",
              "    .dataframe tbody tr th:only-of-type {\n",
              "        vertical-align: middle;\n",
              "    }\n",
              "\n",
              "    .dataframe tbody tr th {\n",
              "        vertical-align: top;\n",
              "    }\n",
              "\n",
              "    .dataframe thead th {\n",
              "        text-align: right;\n",
              "    }\n",
              "</style>\n",
              "<table border=\"1\" class=\"dataframe\">\n",
              "  <thead>\n",
              "    <tr style=\"text-align: right;\">\n",
              "      <th></th>\n",
              "      <th>Id</th>\n",
              "      <th>SepalLengthCm</th>\n",
              "      <th>SepalWidthCm</th>\n",
              "      <th>PetalLengthCm</th>\n",
              "      <th>PetalWidthCm</th>\n",
              "      <th>Species</th>\n",
              "      <th>spesies</th>\n",
              "    </tr>\n",
              "  </thead>\n",
              "  <tbody>\n",
              "    <tr>\n",
              "      <th>0</th>\n",
              "      <td>1</td>\n",
              "      <td>7.00</td>\n",
              "      <td>3.02</td>\n",
              "      <td>4.07</td>\n",
              "      <td>1.04</td>\n",
              "      <td>Iris-versicolor</td>\n",
              "      <td>0</td>\n",
              "    </tr>\n",
              "    <tr>\n",
              "      <th>1</th>\n",
              "      <td>2</td>\n",
              "      <td>6.00</td>\n",
              "      <td>3.02</td>\n",
              "      <td>4.05</td>\n",
              "      <td>1.05</td>\n",
              "      <td>Iris-versicolor</td>\n",
              "      <td>0</td>\n",
              "    </tr>\n",
              "    <tr>\n",
              "      <th>2</th>\n",
              "      <td>3</td>\n",
              "      <td>6.00</td>\n",
              "      <td>3.01</td>\n",
              "      <td>4.09</td>\n",
              "      <td>1.05</td>\n",
              "      <td>Iris-versicolor</td>\n",
              "      <td>0</td>\n",
              "    </tr>\n",
              "    <tr>\n",
              "      <th>3</th>\n",
              "      <td>4</td>\n",
              "      <td>5.00</td>\n",
              "      <td>2.03</td>\n",
              "      <td>4.00</td>\n",
              "      <td>1.00</td>\n",
              "      <td>Iris-versicolor</td>\n",
              "      <td>0</td>\n",
              "    </tr>\n",
              "    <tr>\n",
              "      <th>4</th>\n",
              "      <td>5</td>\n",
              "      <td>6.05</td>\n",
              "      <td>2.08</td>\n",
              "      <td>4.06</td>\n",
              "      <td>1.00</td>\n",
              "      <td>Iris-versicolor</td>\n",
              "      <td>0</td>\n",
              "    </tr>\n",
              "  </tbody>\n",
              "</table>\n",
              "</div>"
            ],
            "text/plain": [
              "   Id  SepalLengthCm  SepalWidthCm  ...  PetalWidthCm          Species spesies\n",
              "0   1           7.00          3.02  ...          1.04  Iris-versicolor       0\n",
              "1   2           6.00          3.02  ...          1.05  Iris-versicolor       0\n",
              "2   3           6.00          3.01  ...          1.05  Iris-versicolor       0\n",
              "3   4           5.00          2.03  ...          1.00  Iris-versicolor       0\n",
              "4   5           6.05          2.08  ...          1.00  Iris-versicolor       0\n",
              "\n",
              "[5 rows x 7 columns]"
            ]
          },
          "metadata": {
            "tags": []
          },
          "execution_count": 6
        }
      ]
    },
    {
      "cell_type": "code",
      "metadata": {
        "colab": {
          "base_uri": "https://localhost:8080/"
        },
        "id": "_JkuFgEHRWFZ",
        "outputId": "2149513a-0482-4d3b-bbb4-8e241ee3d108"
      },
      "source": [
        "print(irisDataset)"
      ],
      "execution_count": 7,
      "outputs": [
        {
          "output_type": "stream",
          "text": [
            "     Id  SepalLengthCm  SepalWidthCm  ...  PetalWidthCm          Species spesies\n",
            "0     1           7.00          3.02  ...          1.04  Iris-versicolor       0\n",
            "1     2           6.00          3.02  ...          1.05  Iris-versicolor       0\n",
            "2     3           6.00          3.01  ...          1.05  Iris-versicolor       0\n",
            "3     4           5.00          2.03  ...          1.00  Iris-versicolor       0\n",
            "4     5           6.05          2.08  ...          1.00  Iris-versicolor       0\n",
            "..  ...            ...           ...  ...           ...              ...     ...\n",
            "95   96           6.07          3.00  ...          2.00   Iris-virginica       1\n",
            "96   97           5.00          2.05  ...          1.00   Iris-virginica       1\n",
            "97   98           5.00          3.00  ...          2.00   Iris-virginica       1\n",
            "98   99           6.02          3.04  ...          2.03   Iris-virginica       1\n",
            "99  100           5.09          3.00  ...          1.00   Iris-virginica       1\n",
            "\n",
            "[100 rows x 7 columns]\n"
          ],
          "name": "stdout"
        }
      ]
    },
    {
      "cell_type": "code",
      "metadata": {
        "id": "SIItqf1VRbfm"
      },
      "source": [
        "irisDataset = irisDataset.drop(labels=\"Id\", axis=1)"
      ],
      "execution_count": 8,
      "outputs": []
    },
    {
      "cell_type": "code",
      "metadata": {
        "colab": {
          "base_uri": "https://localhost:8080/"
        },
        "id": "ggIHou01RhhF",
        "outputId": "2e0c16a1-f33a-4f65-cd1f-7c4f67b51bbe"
      },
      "source": [
        "print(irisDataset)"
      ],
      "execution_count": 9,
      "outputs": [
        {
          "output_type": "stream",
          "text": [
            "    SepalLengthCm  SepalWidthCm  ...          Species  spesies\n",
            "0            7.00          3.02  ...  Iris-versicolor        0\n",
            "1            6.00          3.02  ...  Iris-versicolor        0\n",
            "2            6.00          3.01  ...  Iris-versicolor        0\n",
            "3            5.00          2.03  ...  Iris-versicolor        0\n",
            "4            6.05          2.08  ...  Iris-versicolor        0\n",
            "..            ...           ...  ...              ...      ...\n",
            "95           6.07          3.00  ...   Iris-virginica        1\n",
            "96           5.00          2.05  ...   Iris-virginica        1\n",
            "97           5.00          3.00  ...   Iris-virginica        1\n",
            "98           6.02          3.04  ...   Iris-virginica        1\n",
            "99           5.09          3.00  ...   Iris-virginica        1\n",
            "\n",
            "[100 rows x 6 columns]\n"
          ],
          "name": "stdout"
        }
      ]
    },
    {
      "cell_type": "code",
      "metadata": {
        "id": "HB5slcbORjeh"
      },
      "source": [
        "irisDataset = irisDataset.to_numpy()"
      ],
      "execution_count": 10,
      "outputs": []
    },
    {
      "cell_type": "code",
      "metadata": {
        "colab": {
          "base_uri": "https://localhost:8080/"
        },
        "id": "uLhGqWenRorW",
        "outputId": "c24303a9-6068-4f30-f289-824694102633"
      },
      "source": [
        "print(irisDataset)"
      ],
      "execution_count": 11,
      "outputs": [
        {
          "output_type": "stream",
          "text": [
            "[[7.0 3.02 4.07 1.04 'Iris-versicolor' 0]\n",
            " [6.0 3.02 4.05 1.05 'Iris-versicolor' 0]\n",
            " [6.0 3.01 4.09 1.05 'Iris-versicolor' 0]\n",
            " [5.0 2.03 4.0 1.0 'Iris-versicolor' 0]\n",
            " [6.05 2.08 4.06 1.0 'Iris-versicolor' 0]\n",
            " [5.07 2.08 4.05 1.0 'Iris-versicolor' 0]\n",
            " [6.03 3.03 4.07 1.06 'Iris-versicolor' 0]\n",
            " [4.0 2.04 3.03 1.0 'Iris-versicolor' 0]\n",
            " [6.06 2.09 4.06 2.0 'Iris-versicolor' 0]\n",
            " [5.02 2.07 3.09 1.0 'Iris-versicolor' 0]\n",
            " [5.0 2.0 3.05 2.0 'Iris-versicolor' 0]\n",
            " [5.09 3.0 4.02 1.0 'Iris-versicolor' 0]\n",
            " [6.0 2.02 4.0 1.0 'Iris-versicolor' 0]\n",
            " [6.01 2.09 4.07 1.0 'Iris-versicolor' 0]\n",
            " [5.06 2.09 3.06 1.0 'Iris-versicolor' 0]\n",
            " [6.0 3.01 4.04 1.0 'Iris-versicolor' 0]\n",
            " [5.0 3.0 4.05 2.0 'Iris-versicolor' 0]\n",
            " [5.0 2.07 4.01 1.0 'Iris-versicolor' 0]\n",
            " [5.0 2.02 4.05 1.05 'Iris-versicolor' 0]\n",
            " [6.0 2.05 3.09 1.0 'Iris-versicolor' 0]\n",
            " [5.0 3.02 4.08 1.0 'Iris-versicolor' 0]\n",
            " [4.0 2.08 4.0 1.0 'Iris-versicolor' 0]\n",
            " [6.0 2.05 4.09 1.0 'Iris-versicolor' 0]\n",
            " [6.0 2.08 4.07 1.0 'Iris-versicolor' 0]\n",
            " [6.0 2.09 4.03 1.0 'Iris-versicolor' 0]\n",
            " [6.0 3.0 4.04 1.04 'Iris-versicolor' 0]\n",
            " [4.0 2.08 4.08 1.04 'Iris-versicolor' 0]\n",
            " [5.0 3.0 5.0 2.0 'Iris-versicolor' 0]\n",
            " [6.0 2.09 4.05 1.05 'Iris-versicolor' 0]\n",
            " [5.07 2.06 3.05 1.0 'Iris-versicolor' 0]\n",
            " [5.05 2.04 3.08 1.01 'Iris-versicolor' 0]\n",
            " [5.05 2.04 3.07 1.0 'Iris-versicolor' 0]\n",
            " [5.08 2.07 3.09 1.0 'Iris-versicolor' 0]\n",
            " [6.0 2.07 5.01 1.06 'Iris-versicolor' 0]\n",
            " [5.04 3.0 4.05 1.0 'Iris-versicolor' 0]\n",
            " [6.0 3.04 4.05 1.0 'Iris-versicolor' 0]\n",
            " [6.07 3.01 4.07 1.0 'Iris-versicolor' 0]\n",
            " [6.03 2.03 4.04 1.03 'Iris-versicolor' 0]\n",
            " [5.0 3.0 4.01 1.03 'Iris-versicolor' 0]\n",
            " [5.0 2.05 4.0 1.03 'Iris-versicolor' 0]\n",
            " [5.0 2.06 4.04 1.02 'Iris-versicolor' 0]\n",
            " [6.0 3.0 4.06 1.04 'Iris-versicolor' 0]\n",
            " [6.0 2.06 4.0 1.02 'Iris-versicolor' 0]\n",
            " [5.0 2.03 3.03 1.0 'Iris-versicolor' 0]\n",
            " [5.06 2.07 4.02 1.03 'Iris-versicolor' 0]\n",
            " [5.07 3.0 4.02 1.0 'Iris-versicolor' 0]\n",
            " [5.07 2.09 4.02 1.03 'Iris-versicolor' 0]\n",
            " [6.02 2.09 4.03 1.03 'Iris-versicolor' 0]\n",
            " [5.01 2.05 3.0 1.0 'Iris-versicolor' 0]\n",
            " [5.07 2.08 4.01 1.03 'Iris-versicolor' 0]\n",
            " [6.03 3.03 6.0 2.0 'Iris-virginica' 1]\n",
            " [5.08 2.07 5.01 1.0 'Iris-virginica' 1]\n",
            " [7.01 3.0 5.09 2.0 'Iris-virginica' 1]\n",
            " [6.03 2.09 5.06 1.08 'Iris-virginica' 1]\n",
            " [6.0 3.0 5.08 2.0 'Iris-virginica' 1]\n",
            " [7.0 3.0 6.06 2.0 'Iris-virginica' 1]\n",
            " [4.0 2.05 4.05 1.0 'Iris-virginica' 1]\n",
            " [7.0 2.09 6.03 1.0 'Iris-virginica' 1]\n",
            " [6.0 2.05 5.08 1.08 'Iris-virginica' 1]\n",
            " [7.02 3.06 6.01 2.0 'Iris-virginica' 1]\n",
            " [6.05 3.02 5.01 2.0 'Iris-virginica' 1]\n",
            " [6.04 2.07 5.03 1.09 'Iris-virginica' 1]\n",
            " [6.08 3.0 5.05 2.0 'Iris-virginica' 1]\n",
            " [5.07 2.05 5.0 2.0 'Iris-virginica' 1]\n",
            " [5.08 2.08 5.01 2.0 'Iris-virginica' 1]\n",
            " [6.04 3.02 5.03 2.0 'Iris-virginica' 1]\n",
            " [6.05 3.0 5.05 1.0 'Iris-virginica' 1]\n",
            " [7.0 3.08 6.07 2.0 'Iris-virginica' 1]\n",
            " [7.0 2.06 6.09 2.0 'Iris-virginica' 1]\n",
            " [6.0 2.02 5.0 1.05 'Iris-virginica' 1]\n",
            " [6.09 3.02 5.07 2.03 'Iris-virginica' 1]\n",
            " [5.0 2.08 4.09 2.0 'Iris-virginica' 1]\n",
            " [6.0 2.08 6.07 2.0 'Iris-virginica' 1]\n",
            " [6.0 2.07 4.09 1.0 'Iris-virginica' 1]\n",
            " [6.0 3.03 5.07 2.0 'Iris-virginica' 1]\n",
            " [7.0 3.02 6.0 1.0 'Iris-virginica' 1]\n",
            " [6.0 2.08 4.08 1.0 'Iris-virginica' 1]\n",
            " [6.0 3.0 4.09 1.0 'Iris-virginica' 1]\n",
            " [6.0 2.08 5.06 1.0 'Iris-virginica' 1]\n",
            " [7.02 3.0 5.08 1.06 'Iris-virginica' 1]\n",
            " [7.04 2.08 6.01 1.09 'Iris-virginica' 1]\n",
            " [7.09 3.08 6.04 2.0 'Iris-virginica' 1]\n",
            " [6.04 2.08 5.06 2.02 'Iris-virginica' 1]\n",
            " [6.03 2.08 5.01 1.0 'Iris-virginica' 1]\n",
            " [6.01 2.06 5.06 2.0 'Iris-virginica' 1]\n",
            " [7.07 3.0 6.01 2.03 'Iris-virginica' 1]\n",
            " [6.03 3.04 5.06 2.0 'Iris-virginica' 1]\n",
            " [6.04 3.01 5.05 1.0 'Iris-virginica' 1]\n",
            " [6.0 3.0 4.08 1.0 'Iris-virginica' 1]\n",
            " [6.09 3.01 5.04 2.01 'Iris-virginica' 1]\n",
            " [6.07 3.01 5.06 2.04 'Iris-virginica' 1]\n",
            " [6.09 3.01 5.01 2.03 'Iris-virginica' 1]\n",
            " [5.0 2.07 5.01 1.0 'Iris-virginica' 1]\n",
            " [6.08 3.02 5.09 2.0 'Iris-virginica' 1]\n",
            " [6.07 3.03 5.07 2.0 'Iris-virginica' 1]\n",
            " [6.07 3.0 5.02 2.0 'Iris-virginica' 1]\n",
            " [5.0 2.05 5.0 1.0 'Iris-virginica' 1]\n",
            " [5.0 3.0 5.02 2.0 'Iris-virginica' 1]\n",
            " [6.02 3.04 5.04 2.03 'Iris-virginica' 1]\n",
            " [5.09 3.0 5.01 1.0 'Iris-virginica' 1]]\n"
          ],
          "name": "stdout"
        }
      ]
    },
    {
      "cell_type": "code",
      "metadata": {
        "id": "KEmVkRdaRtP4"
      },
      "source": [
        "dataTraining = np.concatenate((irisDataset[0:40, :], irisDataset[50:90, :]), axis=0)\n",
        "dataTesting = np.concatenate((irisDataset[40:50, :], irisDataset[90:100, :]), axis=0)"
      ],
      "execution_count": 12,
      "outputs": []
    },
    {
      "cell_type": "code",
      "metadata": {
        "colab": {
          "base_uri": "https://localhost:8080/"
        },
        "id": "WnhH7e23Rxdq",
        "outputId": "509a2538-82e0-44a6-d322-6a8849581bb3"
      },
      "source": [
        "print(dataTraining)\n",
        "len(dataTraining)"
      ],
      "execution_count": 13,
      "outputs": [
        {
          "output_type": "stream",
          "text": [
            "[[7.0 3.02 4.07 1.04 'Iris-versicolor' 0]\n",
            " [6.0 3.02 4.05 1.05 'Iris-versicolor' 0]\n",
            " [6.0 3.01 4.09 1.05 'Iris-versicolor' 0]\n",
            " [5.0 2.03 4.0 1.0 'Iris-versicolor' 0]\n",
            " [6.05 2.08 4.06 1.0 'Iris-versicolor' 0]\n",
            " [5.07 2.08 4.05 1.0 'Iris-versicolor' 0]\n",
            " [6.03 3.03 4.07 1.06 'Iris-versicolor' 0]\n",
            " [4.0 2.04 3.03 1.0 'Iris-versicolor' 0]\n",
            " [6.06 2.09 4.06 2.0 'Iris-versicolor' 0]\n",
            " [5.02 2.07 3.09 1.0 'Iris-versicolor' 0]\n",
            " [5.0 2.0 3.05 2.0 'Iris-versicolor' 0]\n",
            " [5.09 3.0 4.02 1.0 'Iris-versicolor' 0]\n",
            " [6.0 2.02 4.0 1.0 'Iris-versicolor' 0]\n",
            " [6.01 2.09 4.07 1.0 'Iris-versicolor' 0]\n",
            " [5.06 2.09 3.06 1.0 'Iris-versicolor' 0]\n",
            " [6.0 3.01 4.04 1.0 'Iris-versicolor' 0]\n",
            " [5.0 3.0 4.05 2.0 'Iris-versicolor' 0]\n",
            " [5.0 2.07 4.01 1.0 'Iris-versicolor' 0]\n",
            " [5.0 2.02 4.05 1.05 'Iris-versicolor' 0]\n",
            " [6.0 2.05 3.09 1.0 'Iris-versicolor' 0]\n",
            " [5.0 3.02 4.08 1.0 'Iris-versicolor' 0]\n",
            " [4.0 2.08 4.0 1.0 'Iris-versicolor' 0]\n",
            " [6.0 2.05 4.09 1.0 'Iris-versicolor' 0]\n",
            " [6.0 2.08 4.07 1.0 'Iris-versicolor' 0]\n",
            " [6.0 2.09 4.03 1.0 'Iris-versicolor' 0]\n",
            " [6.0 3.0 4.04 1.04 'Iris-versicolor' 0]\n",
            " [4.0 2.08 4.08 1.04 'Iris-versicolor' 0]\n",
            " [5.0 3.0 5.0 2.0 'Iris-versicolor' 0]\n",
            " [6.0 2.09 4.05 1.05 'Iris-versicolor' 0]\n",
            " [5.07 2.06 3.05 1.0 'Iris-versicolor' 0]\n",
            " [5.05 2.04 3.08 1.01 'Iris-versicolor' 0]\n",
            " [5.05 2.04 3.07 1.0 'Iris-versicolor' 0]\n",
            " [5.08 2.07 3.09 1.0 'Iris-versicolor' 0]\n",
            " [6.0 2.07 5.01 1.06 'Iris-versicolor' 0]\n",
            " [5.04 3.0 4.05 1.0 'Iris-versicolor' 0]\n",
            " [6.0 3.04 4.05 1.0 'Iris-versicolor' 0]\n",
            " [6.07 3.01 4.07 1.0 'Iris-versicolor' 0]\n",
            " [6.03 2.03 4.04 1.03 'Iris-versicolor' 0]\n",
            " [5.0 3.0 4.01 1.03 'Iris-versicolor' 0]\n",
            " [5.0 2.05 4.0 1.03 'Iris-versicolor' 0]\n",
            " [6.03 3.03 6.0 2.0 'Iris-virginica' 1]\n",
            " [5.08 2.07 5.01 1.0 'Iris-virginica' 1]\n",
            " [7.01 3.0 5.09 2.0 'Iris-virginica' 1]\n",
            " [6.03 2.09 5.06 1.08 'Iris-virginica' 1]\n",
            " [6.0 3.0 5.08 2.0 'Iris-virginica' 1]\n",
            " [7.0 3.0 6.06 2.0 'Iris-virginica' 1]\n",
            " [4.0 2.05 4.05 1.0 'Iris-virginica' 1]\n",
            " [7.0 2.09 6.03 1.0 'Iris-virginica' 1]\n",
            " [6.0 2.05 5.08 1.08 'Iris-virginica' 1]\n",
            " [7.02 3.06 6.01 2.0 'Iris-virginica' 1]\n",
            " [6.05 3.02 5.01 2.0 'Iris-virginica' 1]\n",
            " [6.04 2.07 5.03 1.09 'Iris-virginica' 1]\n",
            " [6.08 3.0 5.05 2.0 'Iris-virginica' 1]\n",
            " [5.07 2.05 5.0 2.0 'Iris-virginica' 1]\n",
            " [5.08 2.08 5.01 2.0 'Iris-virginica' 1]\n",
            " [6.04 3.02 5.03 2.0 'Iris-virginica' 1]\n",
            " [6.05 3.0 5.05 1.0 'Iris-virginica' 1]\n",
            " [7.0 3.08 6.07 2.0 'Iris-virginica' 1]\n",
            " [7.0 2.06 6.09 2.0 'Iris-virginica' 1]\n",
            " [6.0 2.02 5.0 1.05 'Iris-virginica' 1]\n",
            " [6.09 3.02 5.07 2.03 'Iris-virginica' 1]\n",
            " [5.0 2.08 4.09 2.0 'Iris-virginica' 1]\n",
            " [6.0 2.08 6.07 2.0 'Iris-virginica' 1]\n",
            " [6.0 2.07 4.09 1.0 'Iris-virginica' 1]\n",
            " [6.0 3.03 5.07 2.0 'Iris-virginica' 1]\n",
            " [7.0 3.02 6.0 1.0 'Iris-virginica' 1]\n",
            " [6.0 2.08 4.08 1.0 'Iris-virginica' 1]\n",
            " [6.0 3.0 4.09 1.0 'Iris-virginica' 1]\n",
            " [6.0 2.08 5.06 1.0 'Iris-virginica' 1]\n",
            " [7.02 3.0 5.08 1.06 'Iris-virginica' 1]\n",
            " [7.04 2.08 6.01 1.09 'Iris-virginica' 1]\n",
            " [7.09 3.08 6.04 2.0 'Iris-virginica' 1]\n",
            " [6.04 2.08 5.06 2.02 'Iris-virginica' 1]\n",
            " [6.03 2.08 5.01 1.0 'Iris-virginica' 1]\n",
            " [6.01 2.06 5.06 2.0 'Iris-virginica' 1]\n",
            " [7.07 3.0 6.01 2.03 'Iris-virginica' 1]\n",
            " [6.03 3.04 5.06 2.0 'Iris-virginica' 1]\n",
            " [6.04 3.01 5.05 1.0 'Iris-virginica' 1]\n",
            " [6.0 3.0 4.08 1.0 'Iris-virginica' 1]\n",
            " [6.09 3.01 5.04 2.01 'Iris-virginica' 1]]\n"
          ],
          "name": "stdout"
        },
        {
          "output_type": "execute_result",
          "data": {
            "text/plain": [
              "80"
            ]
          },
          "metadata": {
            "tags": []
          },
          "execution_count": 13
        }
      ]
    },
    {
      "cell_type": "code",
      "metadata": {
        "colab": {
          "base_uri": "https://localhost:8080/"
        },
        "id": "0xtLjH6jR1Zq",
        "outputId": "eb808bb1-b829-4053-a628-0711678f36dc"
      },
      "source": [
        "print(dataTesting)\n",
        "len(dataTesting)"
      ],
      "execution_count": 14,
      "outputs": [
        {
          "output_type": "stream",
          "text": [
            "[[5.0 2.06 4.04 1.02 'Iris-versicolor' 0]\n",
            " [6.0 3.0 4.06 1.04 'Iris-versicolor' 0]\n",
            " [6.0 2.06 4.0 1.02 'Iris-versicolor' 0]\n",
            " [5.0 2.03 3.03 1.0 'Iris-versicolor' 0]\n",
            " [5.06 2.07 4.02 1.03 'Iris-versicolor' 0]\n",
            " [5.07 3.0 4.02 1.0 'Iris-versicolor' 0]\n",
            " [5.07 2.09 4.02 1.03 'Iris-versicolor' 0]\n",
            " [6.02 2.09 4.03 1.03 'Iris-versicolor' 0]\n",
            " [5.01 2.05 3.0 1.0 'Iris-versicolor' 0]\n",
            " [5.07 2.08 4.01 1.03 'Iris-versicolor' 0]\n",
            " [6.07 3.01 5.06 2.04 'Iris-virginica' 1]\n",
            " [6.09 3.01 5.01 2.03 'Iris-virginica' 1]\n",
            " [5.0 2.07 5.01 1.0 'Iris-virginica' 1]\n",
            " [6.08 3.02 5.09 2.0 'Iris-virginica' 1]\n",
            " [6.07 3.03 5.07 2.0 'Iris-virginica' 1]\n",
            " [6.07 3.0 5.02 2.0 'Iris-virginica' 1]\n",
            " [5.0 2.05 5.0 1.0 'Iris-virginica' 1]\n",
            " [5.0 3.0 5.02 2.0 'Iris-virginica' 1]\n",
            " [6.02 3.04 5.04 2.03 'Iris-virginica' 1]\n",
            " [5.09 3.0 5.01 1.0 'Iris-virginica' 1]]\n"
          ],
          "name": "stdout"
        },
        {
          "output_type": "execute_result",
          "data": {
            "text/plain": [
              "20"
            ]
          },
          "metadata": {
            "tags": []
          },
          "execution_count": 14
        }
      ]
    },
    {
      "cell_type": "code",
      "metadata": {
        "id": "arb9EgJqSysu"
      },
      "source": [
        "inputTraining = dataTraining[:, 0:4]\n",
        "inputTesting = dataTesting[:, 0:4]\n",
        "labelTraining = dataTraining[:, 4]\n",
        "labelTesting = dataTesting[:, 4]"
      ],
      "execution_count": 16,
      "outputs": []
    },
    {
      "cell_type": "code",
      "metadata": {
        "colab": {
          "base_uri": "https://localhost:8080/"
        },
        "id": "PmiuoH7kS1_u",
        "outputId": "e672716c-67a1-4575-ff9a-b99220fed66e"
      },
      "source": [
        "print(labelTraining)\n",
        "len(labelTraining)"
      ],
      "execution_count": 17,
      "outputs": [
        {
          "output_type": "stream",
          "text": [
            "['Iris-versicolor' 'Iris-versicolor' 'Iris-versicolor' 'Iris-versicolor'\n",
            " 'Iris-versicolor' 'Iris-versicolor' 'Iris-versicolor' 'Iris-versicolor'\n",
            " 'Iris-versicolor' 'Iris-versicolor' 'Iris-versicolor' 'Iris-versicolor'\n",
            " 'Iris-versicolor' 'Iris-versicolor' 'Iris-versicolor' 'Iris-versicolor'\n",
            " 'Iris-versicolor' 'Iris-versicolor' 'Iris-versicolor' 'Iris-versicolor'\n",
            " 'Iris-versicolor' 'Iris-versicolor' 'Iris-versicolor' 'Iris-versicolor'\n",
            " 'Iris-versicolor' 'Iris-versicolor' 'Iris-versicolor' 'Iris-versicolor'\n",
            " 'Iris-versicolor' 'Iris-versicolor' 'Iris-versicolor' 'Iris-versicolor'\n",
            " 'Iris-versicolor' 'Iris-versicolor' 'Iris-versicolor' 'Iris-versicolor'\n",
            " 'Iris-versicolor' 'Iris-versicolor' 'Iris-versicolor' 'Iris-versicolor'\n",
            " 'Iris-virginica' 'Iris-virginica' 'Iris-virginica' 'Iris-virginica'\n",
            " 'Iris-virginica' 'Iris-virginica' 'Iris-virginica' 'Iris-virginica'\n",
            " 'Iris-virginica' 'Iris-virginica' 'Iris-virginica' 'Iris-virginica'\n",
            " 'Iris-virginica' 'Iris-virginica' 'Iris-virginica' 'Iris-virginica'\n",
            " 'Iris-virginica' 'Iris-virginica' 'Iris-virginica' 'Iris-virginica'\n",
            " 'Iris-virginica' 'Iris-virginica' 'Iris-virginica' 'Iris-virginica'\n",
            " 'Iris-virginica' 'Iris-virginica' 'Iris-virginica' 'Iris-virginica'\n",
            " 'Iris-virginica' 'Iris-virginica' 'Iris-virginica' 'Iris-virginica'\n",
            " 'Iris-virginica' 'Iris-virginica' 'Iris-virginica' 'Iris-virginica'\n",
            " 'Iris-virginica' 'Iris-virginica' 'Iris-virginica' 'Iris-virginica']\n"
          ],
          "name": "stdout"
        },
        {
          "output_type": "execute_result",
          "data": {
            "text/plain": [
              "80"
            ]
          },
          "metadata": {
            "tags": []
          },
          "execution_count": 17
        }
      ]
    },
    {
      "cell_type": "code",
      "metadata": {
        "colab": {
          "base_uri": "https://localhost:8080/"
        },
        "id": "gM_Vqn79S5s3",
        "outputId": "fd310fa1-f392-456d-8bcd-68ca4a2f4e52"
      },
      "source": [
        "print(labelTesting)\n",
        "len(labelTesting)"
      ],
      "execution_count": 18,
      "outputs": [
        {
          "output_type": "stream",
          "text": [
            "['Iris-versicolor' 'Iris-versicolor' 'Iris-versicolor' 'Iris-versicolor'\n",
            " 'Iris-versicolor' 'Iris-versicolor' 'Iris-versicolor' 'Iris-versicolor'\n",
            " 'Iris-versicolor' 'Iris-versicolor' 'Iris-virginica' 'Iris-virginica'\n",
            " 'Iris-virginica' 'Iris-virginica' 'Iris-virginica' 'Iris-virginica'\n",
            " 'Iris-virginica' 'Iris-virginica' 'Iris-virginica' 'Iris-virginica']\n"
          ],
          "name": "stdout"
        },
        {
          "output_type": "execute_result",
          "data": {
            "text/plain": [
              "20"
            ]
          },
          "metadata": {
            "tags": []
          },
          "execution_count": 18
        }
      ]
    },
    {
      "cell_type": "code",
      "metadata": {
        "id": "N__gRpURS9K6"
      },
      "source": [
        "model = tree.DecisionTreeClassifier()"
      ],
      "execution_count": 19,
      "outputs": []
    },
    {
      "cell_type": "code",
      "metadata": {
        "id": "mCWxKInGS_rU"
      },
      "source": [
        "model = model.fit(inputTraining, labelTraining)"
      ],
      "execution_count": 20,
      "outputs": []
    },
    {
      "cell_type": "code",
      "metadata": {
        "colab": {
          "base_uri": "https://localhost:8080/"
        },
        "id": "YqsiaMMETC2l",
        "outputId": "1a6caf76-511d-4e9e-9bf8-61d5fcf4c94f"
      },
      "source": [
        "hasilPrediksi = model.predict(inputTesting)\n",
        "print(\"Label Sebenarnya : \", labelTesting)\n",
        "print(\"Hasil Prediksi   : \", hasilPrediksi)"
      ],
      "execution_count": 21,
      "outputs": [
        {
          "output_type": "stream",
          "text": [
            "Label Sebenarnya :  ['Iris-versicolor' 'Iris-versicolor' 'Iris-versicolor' 'Iris-versicolor'\n",
            " 'Iris-versicolor' 'Iris-versicolor' 'Iris-versicolor' 'Iris-versicolor'\n",
            " 'Iris-versicolor' 'Iris-versicolor' 'Iris-virginica' 'Iris-virginica'\n",
            " 'Iris-virginica' 'Iris-virginica' 'Iris-virginica' 'Iris-virginica'\n",
            " 'Iris-virginica' 'Iris-virginica' 'Iris-virginica' 'Iris-virginica']\n",
            "Hasil Prediksi   :  ['Iris-versicolor' 'Iris-versicolor' 'Iris-versicolor' 'Iris-versicolor'\n",
            " 'Iris-versicolor' 'Iris-versicolor' 'Iris-versicolor' 'Iris-versicolor'\n",
            " 'Iris-versicolor' 'Iris-versicolor' 'Iris-virginica' 'Iris-virginica'\n",
            " 'Iris-virginica' 'Iris-virginica' 'Iris-virginica' 'Iris-virginica'\n",
            " 'Iris-virginica' 'Iris-versicolor' 'Iris-virginica' 'Iris-virginica']\n"
          ],
          "name": "stdout"
        }
      ]
    },
    {
      "cell_type": "code",
      "metadata": {
        "colab": {
          "base_uri": "https://localhost:8080/"
        },
        "id": "eaHTtNpGTLBu",
        "outputId": "0c08b7a5-7b78-473e-e91e-2b43dacd64ed"
      },
      "source": [
        "prediksiBenar = (hasilPrediksi == labelTesting).sum()\n",
        "prediksiSalah = (hasilPrediksi != labelTesting).sum()\n",
        "print(\"Prediksi Benar : \", prediksiBenar, \"data\")\n",
        "print(\"Prediksi Salah : \", prediksiSalah, \"data\")\n",
        "print(\"Akurasi : \", prediksiBenar/(prediksiBenar+prediksiSalah)*100 , \"%\")"
      ],
      "execution_count": 24,
      "outputs": [
        {
          "output_type": "stream",
          "text": [
            "Prediksi Benar :  19 data\n",
            "Prediksi Salah :  1 data\n",
            "Akurasi :  95.0 %\n"
          ],
          "name": "stdout"
        }
      ]
    }
  ]
}